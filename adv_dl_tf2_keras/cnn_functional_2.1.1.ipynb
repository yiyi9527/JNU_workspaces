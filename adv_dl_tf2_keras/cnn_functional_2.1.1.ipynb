{
 "cells": [
  {
   "cell_type": "code",
   "execution_count": 1,
   "id": "4205527b",
   "metadata": {},
   "outputs": [
    {
     "name": "stderr",
     "output_type": "stream",
     "text": [
      "D:\\anaconda\\envs\\pytorch\\lib\\site-packages\\tensorflow\\python\\framework\\dtypes.py:516: FutureWarning: Passing (type, 1) or '1type' as a synonym of type is deprecated; in a future version of numpy, it will be understood as (type, (1,)) / '(1,)type'.\n",
      "  _np_qint8 = np.dtype([(\"qint8\", np.int8, 1)])\n",
      "D:\\anaconda\\envs\\pytorch\\lib\\site-packages\\tensorflow\\python\\framework\\dtypes.py:517: FutureWarning: Passing (type, 1) or '1type' as a synonym of type is deprecated; in a future version of numpy, it will be understood as (type, (1,)) / '(1,)type'.\n",
      "  _np_quint8 = np.dtype([(\"quint8\", np.uint8, 1)])\n",
      "D:\\anaconda\\envs\\pytorch\\lib\\site-packages\\tensorflow\\python\\framework\\dtypes.py:518: FutureWarning: Passing (type, 1) or '1type' as a synonym of type is deprecated; in a future version of numpy, it will be understood as (type, (1,)) / '(1,)type'.\n",
      "  _np_qint16 = np.dtype([(\"qint16\", np.int16, 1)])\n",
      "D:\\anaconda\\envs\\pytorch\\lib\\site-packages\\tensorflow\\python\\framework\\dtypes.py:519: FutureWarning: Passing (type, 1) or '1type' as a synonym of type is deprecated; in a future version of numpy, it will be understood as (type, (1,)) / '(1,)type'.\n",
      "  _np_quint16 = np.dtype([(\"quint16\", np.uint16, 1)])\n",
      "D:\\anaconda\\envs\\pytorch\\lib\\site-packages\\tensorflow\\python\\framework\\dtypes.py:520: FutureWarning: Passing (type, 1) or '1type' as a synonym of type is deprecated; in a future version of numpy, it will be understood as (type, (1,)) / '(1,)type'.\n",
      "  _np_qint32 = np.dtype([(\"qint32\", np.int32, 1)])\n",
      "D:\\anaconda\\envs\\pytorch\\lib\\site-packages\\tensorflow\\python\\framework\\dtypes.py:525: FutureWarning: Passing (type, 1) or '1type' as a synonym of type is deprecated; in a future version of numpy, it will be understood as (type, (1,)) / '(1,)type'.\n",
      "  np_resource = np.dtype([(\"resource\", np.ubyte, 1)])\n",
      "D:\\anaconda\\envs\\pytorch\\lib\\site-packages\\tensorboard\\compat\\tensorflow_stub\\dtypes.py:541: FutureWarning: Passing (type, 1) or '1type' as a synonym of type is deprecated; in a future version of numpy, it will be understood as (type, (1,)) / '(1,)type'.\n",
      "  _np_qint8 = np.dtype([(\"qint8\", np.int8, 1)])\n",
      "D:\\anaconda\\envs\\pytorch\\lib\\site-packages\\tensorboard\\compat\\tensorflow_stub\\dtypes.py:542: FutureWarning: Passing (type, 1) or '1type' as a synonym of type is deprecated; in a future version of numpy, it will be understood as (type, (1,)) / '(1,)type'.\n",
      "  _np_quint8 = np.dtype([(\"quint8\", np.uint8, 1)])\n",
      "D:\\anaconda\\envs\\pytorch\\lib\\site-packages\\tensorboard\\compat\\tensorflow_stub\\dtypes.py:543: FutureWarning: Passing (type, 1) or '1type' as a synonym of type is deprecated; in a future version of numpy, it will be understood as (type, (1,)) / '(1,)type'.\n",
      "  _np_qint16 = np.dtype([(\"qint16\", np.int16, 1)])\n",
      "D:\\anaconda\\envs\\pytorch\\lib\\site-packages\\tensorboard\\compat\\tensorflow_stub\\dtypes.py:544: FutureWarning: Passing (type, 1) or '1type' as a synonym of type is deprecated; in a future version of numpy, it will be understood as (type, (1,)) / '(1,)type'.\n",
      "  _np_quint16 = np.dtype([(\"quint16\", np.uint16, 1)])\n",
      "D:\\anaconda\\envs\\pytorch\\lib\\site-packages\\tensorboard\\compat\\tensorflow_stub\\dtypes.py:545: FutureWarning: Passing (type, 1) or '1type' as a synonym of type is deprecated; in a future version of numpy, it will be understood as (type, (1,)) / '(1,)type'.\n",
      "  _np_qint32 = np.dtype([(\"qint32\", np.int32, 1)])\n",
      "D:\\anaconda\\envs\\pytorch\\lib\\site-packages\\tensorboard\\compat\\tensorflow_stub\\dtypes.py:550: FutureWarning: Passing (type, 1) or '1type' as a synonym of type is deprecated; in a future version of numpy, it will be understood as (type, (1,)) / '(1,)type'.\n",
      "  np_resource = np.dtype([(\"resource\", np.ubyte, 1)])\n"
     ]
    }
   ],
   "source": [
    "import numpy as np\n",
    "from tensorflow.keras.layers import Dense, Dropout, Input\n",
    "from tensorflow.keras.layers import Conv2D, MaxPooling2D, Flatten\n",
    "from tensorflow.keras.models import Model\n",
    "from tensorflow.keras.datasets import mnist\n",
    "from tensorflow.keras.utils import to_categorical "
   ]
  },
  {
   "cell_type": "code",
   "execution_count": 2,
   "id": "cdb57690",
   "metadata": {},
   "outputs": [],
   "source": [
    "# load MNIST dataset\n",
    "(x_train, y_train), (x_test, y_test) = mnist.load_data() "
   ]
  },
  {
   "cell_type": "code",
   "execution_count": 3,
   "id": "36e77eab",
   "metadata": {},
   "outputs": [],
   "source": [
    "# from sparse label to categorical\n",
    "num_labels = len(np.unique(y_train))\n",
    "y_train = to_categorical(y_train)\n",
    "y_test = to_categorical(y_test) "
   ]
  },
  {
   "cell_type": "code",
   "execution_count": 4,
   "id": "d5f46224",
   "metadata": {},
   "outputs": [],
   "source": [
    "# reshape and normalize input images\n",
    "image_size = x_train.shape[1]\n",
    "x_train = np.reshape(x_train,[-1, image_size, image_size, 1])\n",
    "x_test = np.reshape(x_test,[-1, image_size, image_size, 1])\n",
    "x_train = x_train.astype('float32') / 255\n",
    "x_test = x_test.astype('float32') / 255 "
   ]
  },
  {
   "cell_type": "code",
   "execution_count": 5,
   "id": "a99262cc",
   "metadata": {},
   "outputs": [],
   "source": [
    "# network parameters\n",
    "input_shape = (image_size, image_size, 1)\n",
    "batch_size = 128\n",
    "kernel_size = 3\n",
    "filters = 64\n",
    "dropout = 0.3 "
   ]
  },
  {
   "cell_type": "code",
   "execution_count": 7,
   "id": "5b0d94ec",
   "metadata": {},
   "outputs": [],
   "source": [
    "# use functional API to build cnn layers\n",
    "inputs = Input(shape=input_shape)\n",
    "y = Conv2D(filters=filters,kernel_size=kernel_size,activation='relu')(inputs)\n",
    "y = MaxPooling2D()(y)\n",
    "y = Conv2D(filters=filters,kernel_size=kernel_size,activation='relu')(y)\n",
    "y = MaxPooling2D()(y)\n",
    "y = Conv2D(filters=filters,kernel_size=kernel_size,activation='relu')(y)\n",
    "# image to vector before connecting to dense layer\n",
    "y = Flatten()(y)\n",
    "# dropout regularization\n",
    "y = Dropout(dropout)(y)\n",
    "outputs = Dense(num_labels,activation='softmax')(y)"
   ]
  },
  {
   "cell_type": "code",
   "execution_count": 8,
   "id": "68a80952",
   "metadata": {},
   "outputs": [
    {
     "name": "stdout",
     "output_type": "stream",
     "text": [
      "Model: \"model\"\n",
      "_________________________________________________________________\n",
      "Layer (type)                 Output Shape              Param #   \n",
      "=================================================================\n",
      "input_2 (InputLayer)         [(None, 28, 28, 1)]       0         \n",
      "_________________________________________________________________\n",
      "conv2d_3 (Conv2D)            (None, 26, 26, 64)        640       \n",
      "_________________________________________________________________\n",
      "max_pooling2d_2 (MaxPooling2 (None, 13, 13, 64)        0         \n",
      "_________________________________________________________________\n",
      "conv2d_4 (Conv2D)            (None, 11, 11, 64)        36928     \n",
      "_________________________________________________________________\n",
      "max_pooling2d_3 (MaxPooling2 (None, 5, 5, 64)          0         \n",
      "_________________________________________________________________\n",
      "conv2d_5 (Conv2D)            (None, 3, 3, 64)          36928     \n",
      "_________________________________________________________________\n",
      "flatten_1 (Flatten)          (None, 576)               0         \n",
      "_________________________________________________________________\n",
      "dropout_1 (Dropout)          (None, 576)               0         \n",
      "_________________________________________________________________\n",
      "dense_1 (Dense)              (None, 10)                5770      \n",
      "=================================================================\n",
      "Total params: 80,266\n",
      "Trainable params: 80,266\n",
      "Non-trainable params: 0\n",
      "_________________________________________________________________\n"
     ]
    }
   ],
   "source": [
    "# build the model by supplying inputs/outputs\n",
    "model = Model(inputs=inputs,outputs=outputs)\n",
    "# network model in text\n",
    "model.summary()\n",
    "# classifier loss, Adam optimizer, classifier accuracy\n",
    "model.compile(loss='categorical_crossentropy',optimizer='adam',metrics=['accuracy'])"
   ]
  },
  {
   "cell_type": "code",
   "execution_count": 9,
   "id": "4b0a5d42",
   "metadata": {},
   "outputs": [
    {
     "name": "stdout",
     "output_type": "stream",
     "text": [
      "Train on 60000 samples, validate on 10000 samples\n",
      "Epoch 1/20\n",
      "60000/60000 [==============================] - 23s 385us/sample - loss: 0.2750 - acc: 0.9151 - val_loss: 0.0594 - val_acc: 0.9813\n",
      "Epoch 2/20\n",
      "60000/60000 [==============================] - 23s 382us/sample - loss: 0.0734 - acc: 0.9773 - val_loss: 0.0470 - val_acc: 0.9844\n",
      "Epoch 3/20\n",
      "60000/60000 [==============================] - 23s 384us/sample - loss: 0.0513 - acc: 0.9847 - val_loss: 0.0349 - val_acc: 0.9890\n",
      "Epoch 4/20\n",
      "60000/60000 [==============================] - 23s 386us/sample - loss: 0.0434 - acc: 0.9864 - val_loss: 0.0277 - val_acc: 0.9905\n",
      "Epoch 5/20\n",
      "60000/60000 [==============================] - 23s 383us/sample - loss: 0.0362 - acc: 0.9887 - val_loss: 0.0273 - val_acc: 0.9912\n",
      "Epoch 6/20\n",
      "60000/60000 [==============================] - 23s 385us/sample - loss: 0.0313 - acc: 0.9905 - val_loss: 0.0237 - val_acc: 0.9921\n",
      "Epoch 7/20\n",
      "60000/60000 [==============================] - 23s 382us/sample - loss: 0.0275 - acc: 0.9913 - val_loss: 0.0256 - val_acc: 0.9910\n",
      "Epoch 8/20\n",
      "60000/60000 [==============================] - 23s 384us/sample - loss: 0.0250 - acc: 0.9915 - val_loss: 0.0265 - val_acc: 0.9917\n",
      "Epoch 9/20\n",
      "60000/60000 [==============================] - 23s 385us/sample - loss: 0.0225 - acc: 0.9931 - val_loss: 0.0230 - val_acc: 0.9912\n",
      "Epoch 10/20\n",
      "60000/60000 [==============================] - 23s 384us/sample - loss: 0.0201 - acc: 0.9934 - val_loss: 0.0269 - val_acc: 0.9923\n",
      "Epoch 11/20\n",
      "60000/60000 [==============================] - 23s 382us/sample - loss: 0.0184 - acc: 0.9940 - val_loss: 0.0224 - val_acc: 0.9929\n",
      "Epoch 12/20\n",
      "60000/60000 [==============================] - 23s 383us/sample - loss: 0.0170 - acc: 0.9942 - val_loss: 0.0251 - val_acc: 0.9914\n",
      "Epoch 13/20\n",
      "60000/60000 [==============================] - 23s 384us/sample - loss: 0.0144 - acc: 0.9955 - val_loss: 0.0330 - val_acc: 0.9894\n",
      "Epoch 14/20\n",
      "60000/60000 [==============================] - 23s 388us/sample - loss: 0.0145 - acc: 0.9952 - val_loss: 0.0223 - val_acc: 0.9927\n",
      "Epoch 15/20\n",
      "60000/60000 [==============================] - 23s 383us/sample - loss: 0.0137 - acc: 0.9953 - val_loss: 0.0246 - val_acc: 0.9929\n",
      "Epoch 16/20\n",
      "60000/60000 [==============================] - 23s 383us/sample - loss: 0.0120 - acc: 0.9960 - val_loss: 0.0253 - val_acc: 0.9924\n",
      "Epoch 17/20\n",
      "60000/60000 [==============================] - 23s 382us/sample - loss: 0.0107 - acc: 0.9962 - val_loss: 0.0240 - val_acc: 0.9927\n",
      "Epoch 18/20\n",
      "60000/60000 [==============================] - 23s 384us/sample - loss: 0.0109 - acc: 0.9964 - val_loss: 0.0251 - val_acc: 0.9932\n",
      "Epoch 19/20\n",
      "60000/60000 [==============================] - 23s 388us/sample - loss: 0.0093 - acc: 0.9969 - val_loss: 0.0311 - val_acc: 0.9913\n",
      "Epoch 20/20\n",
      "60000/60000 [==============================] - 23s 385us/sample - loss: 0.0102 - acc: 0.9966 - val_loss: 0.0225 - val_acc: 0.9931\n"
     ]
    },
    {
     "data": {
      "text/plain": [
       "<tensorflow.python.keras.callbacks.History at 0x1440530e588>"
      ]
     },
     "execution_count": 9,
     "metadata": {},
     "output_type": "execute_result"
    }
   ],
   "source": [
    "# train the model with input images and labels\n",
    "model.fit(x_train,y_train,validation_data=(x_test,y_test),epochs=20,batch_size=batch_size)"
   ]
  },
  {
   "cell_type": "code",
   "execution_count": 10,
   "id": "87fd8c5f",
   "metadata": {},
   "outputs": [
    {
     "name": "stdout",
     "output_type": "stream",
     "text": [
      "\n",
      "Test accuracy: 99.3%\n"
     ]
    }
   ],
   "source": [
    "# model accuracy on test dataset\n",
    "score = model.evaluate(x_test,y_test,batch_size=batch_size,verbose=0)\n",
    "print('\\nTest accuracy: %.1f%%' % (100.0 * score[1]))"
   ]
  },
  {
   "cell_type": "code",
   "execution_count": null,
   "id": "8d67f303",
   "metadata": {},
   "outputs": [],
   "source": []
  },
  {
   "cell_type": "code",
   "execution_count": null,
   "id": "ffafc66c",
   "metadata": {},
   "outputs": [],
   "source": []
  },
  {
   "cell_type": "code",
   "execution_count": null,
   "id": "96b54690",
   "metadata": {},
   "outputs": [],
   "source": []
  }
 ],
 "metadata": {
  "kernelspec": {
   "display_name": "pytorch",
   "language": "python",
   "name": "pytorch"
  },
  "language_info": {
   "codemirror_mode": {
    "name": "ipython",
    "version": 3
   },
   "file_extension": ".py",
   "mimetype": "text/x-python",
   "name": "python",
   "nbconvert_exporter": "python",
   "pygments_lexer": "ipython3",
   "version": "3.7.12"
  }
 },
 "nbformat": 4,
 "nbformat_minor": 5
}
